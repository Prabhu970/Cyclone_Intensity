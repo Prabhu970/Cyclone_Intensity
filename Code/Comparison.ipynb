{
 "cells": [
  {
   "cell_type": "code",
   "execution_count": 89,
   "metadata": {},
   "outputs": [],
   "source": [
    "import pandas as pd\n",
    "import numpy as np\n",
    "import seaborn as sea\n",
    "import matplotlib as plt\n",
    "from sklearn.metrics import accuracy_score\n",
    "dir_path=\"D:\\\\Users\\\\sankineni prabhu\\\\Desktop\\\\Project\\\\CycloneINSAT\\\\\""
   ]
  },
  {
   "cell_type": "code",
   "execution_count": 49,
   "metadata": {},
   "outputs": [],
   "source": [
    "EN_loss = pd.read_csv(dir_path+\"Results\\\\EfficientNet\\\\loss.csv\")\n",
    "MN_loss = pd.read_csv(dir_path+\"Results\\\\MobileNet\\\\loss.csv\")\n",
    "X_loss = pd.read_csv(dir_path+\"Results\\\\Xception\\\\loss.csv\")"
   ]
  },
  {
   "cell_type": "code",
   "execution_count": 50,
   "metadata": {},
   "outputs": [],
   "source": [
    "EN_loss.rename(columns={'Unnamed: 0':'Epoch','0':'loss_EN'},inplace=True)\n",
    "MN_loss.rename(columns={'Unnamed: 0':'Epoch','0':'loss_MN'},inplace=True)\n",
    "X_loss.rename(columns={'Unnamed: 0':'Epoch','0':'loss_X'},inplace=True)"
   ]
  },
  {
   "cell_type": "code",
   "execution_count": 52,
   "metadata": {},
   "outputs": [
    {
     "data": {
      "text/html": [
       "<div>\n",
       "<style scoped>\n",
       "    .dataframe tbody tr th:only-of-type {\n",
       "        vertical-align: middle;\n",
       "    }\n",
       "\n",
       "    .dataframe tbody tr th {\n",
       "        vertical-align: top;\n",
       "    }\n",
       "\n",
       "    .dataframe thead th {\n",
       "        text-align: right;\n",
       "    }\n",
       "</style>\n",
       "<table border=\"1\" class=\"dataframe\">\n",
       "  <thead>\n",
       "    <tr style=\"text-align: right;\">\n",
       "      <th></th>\n",
       "      <th>Epoch</th>\n",
       "      <th>loss_EN</th>\n",
       "      <th>loss_MN</th>\n",
       "      <th>loss_X</th>\n",
       "    </tr>\n",
       "  </thead>\n",
       "  <tbody>\n",
       "    <tr>\n",
       "      <th>0</th>\n",
       "      <td>0</td>\n",
       "      <td>57.169361</td>\n",
       "      <td>39.696983</td>\n",
       "      <td>28.717127</td>\n",
       "    </tr>\n",
       "    <tr>\n",
       "      <th>1</th>\n",
       "      <td>1</td>\n",
       "      <td>23.435532</td>\n",
       "      <td>21.387880</td>\n",
       "      <td>15.674500</td>\n",
       "    </tr>\n",
       "    <tr>\n",
       "      <th>2</th>\n",
       "      <td>2</td>\n",
       "      <td>19.083389</td>\n",
       "      <td>17.160534</td>\n",
       "      <td>14.245537</td>\n",
       "    </tr>\n",
       "    <tr>\n",
       "      <th>3</th>\n",
       "      <td>3</td>\n",
       "      <td>26.586355</td>\n",
       "      <td>15.410932</td>\n",
       "      <td>10.606519</td>\n",
       "    </tr>\n",
       "    <tr>\n",
       "      <th>4</th>\n",
       "      <td>4</td>\n",
       "      <td>21.267000</td>\n",
       "      <td>14.426308</td>\n",
       "      <td>8.054084</td>\n",
       "    </tr>\n",
       "    <tr>\n",
       "      <th>...</th>\n",
       "      <td>...</td>\n",
       "      <td>...</td>\n",
       "      <td>...</td>\n",
       "      <td>...</td>\n",
       "    </tr>\n",
       "    <tr>\n",
       "      <th>95</th>\n",
       "      <td>95</td>\n",
       "      <td>17.812954</td>\n",
       "      <td>2.675581</td>\n",
       "      <td>1.419405</td>\n",
       "    </tr>\n",
       "    <tr>\n",
       "      <th>96</th>\n",
       "      <td>96</td>\n",
       "      <td>17.812302</td>\n",
       "      <td>2.168876</td>\n",
       "      <td>1.894469</td>\n",
       "    </tr>\n",
       "    <tr>\n",
       "      <th>97</th>\n",
       "      <td>97</td>\n",
       "      <td>17.698969</td>\n",
       "      <td>2.751724</td>\n",
       "      <td>1.882918</td>\n",
       "    </tr>\n",
       "    <tr>\n",
       "      <th>98</th>\n",
       "      <td>98</td>\n",
       "      <td>17.971313</td>\n",
       "      <td>2.532236</td>\n",
       "      <td>1.959696</td>\n",
       "    </tr>\n",
       "    <tr>\n",
       "      <th>99</th>\n",
       "      <td>99</td>\n",
       "      <td>17.963644</td>\n",
       "      <td>2.317481</td>\n",
       "      <td>1.606212</td>\n",
       "    </tr>\n",
       "  </tbody>\n",
       "</table>\n",
       "<p>100 rows × 4 columns</p>\n",
       "</div>"
      ],
      "text/plain": [
       "    Epoch    loss_EN    loss_MN     loss_X\n",
       "0       0  57.169361  39.696983  28.717127\n",
       "1       1  23.435532  21.387880  15.674500\n",
       "2       2  19.083389  17.160534  14.245537\n",
       "3       3  26.586355  15.410932  10.606519\n",
       "4       4  21.267000  14.426308   8.054084\n",
       "..    ...        ...        ...        ...\n",
       "95     95  17.812954   2.675581   1.419405\n",
       "96     96  17.812302   2.168876   1.894469\n",
       "97     97  17.698969   2.751724   1.882918\n",
       "98     98  17.971313   2.532236   1.959696\n",
       "99     99  17.963644   2.317481   1.606212\n",
       "\n",
       "[100 rows x 4 columns]"
      ]
     },
     "execution_count": 52,
     "metadata": {},
     "output_type": "execute_result"
    }
   ],
   "source": [
    "main_loss = pd.concat([EN_loss['Epoch'],EN_loss['loss_EN'],MN_loss['loss_MN'],X_loss['loss_X']],axis=1)\n",
    "main_loss"
   ]
  },
  {
   "cell_type": "code",
   "execution_count": 53,
   "metadata": {},
   "outputs": [
    {
     "data": {
      "text/plain": [
       "<Axes: xlabel='Epoch', ylabel='value'>"
      ]
     },
     "execution_count": 53,
     "metadata": {},
     "output_type": "execute_result"
    },
    {
     "data": {
      "image/png": "[encoded data removed]",
      "text/plain": [
       "<Figure size 432x288 with 1 Axes>"
      ]
     },
     "metadata": {
      "needs_background": "light"
     },
     "output_type": "display_data"
    }
   ],
   "source": [
    "sea.lineplot(data=pd.melt(main_loss,['Epoch']),x=\"Epoch\",y=\"value\",hue='variable')"
   ]
  }
 ],
 "metadata": {
  "kernelspec": {
   "display_name": "Python 3",
   "language": "python",
   "name": "python3"
  },
  "language_info": {
   "codemirror_mode": {
    "name": "ipython",
    "version": 3
   },
   "file_extension": ".py",
   "mimetype": "text/x-python",
   "name": "python",
   "nbconvert_exporter": "python",
   "pygments_lexer": "ipython3",
   "version": "3.10.11"
  }
 },
 "nbformat": 4,
 "nbformat_minor": 2
}
